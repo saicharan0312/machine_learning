{
  "nbformat": 4,
  "nbformat_minor": 0,
  "metadata": {
    "colab": {
      "provenance": []
    },
    "kernelspec": {
      "name": "python3",
      "display_name": "Python 3"
    },
    "language_info": {
      "name": "python"
    }
  },
  "cells": [
    {
      "cell_type": "code",
      "metadata": {
        "colab": {
          "base_uri": "https://localhost:8080/"
        },
        "id": "oofN4uIA7o0o",
        "outputId": "62f77183-b27d-44c0-a65a-73ffa2bcd8c4"
      },
      "source": [
        "!pip install surprise"
      ],
      "execution_count": null,
      "outputs": [
        {
          "output_type": "stream",
          "name": "stdout",
          "text": [
            "Looking in indexes: https://pypi.org/simple, https://us-python.pkg.dev/colab-wheels/public/simple/\n",
            "Collecting surprise\n",
            "  Downloading surprise-0.1-py2.py3-none-any.whl (1.8 kB)\n",
            "Collecting scikit-surprise\n",
            "  Downloading scikit-surprise-1.1.1.tar.gz (11.8 MB)\n",
            "\u001b[K     |████████████████████████████████| 11.8 MB 5.1 MB/s \n",
            "\u001b[?25hRequirement already satisfied: joblib>=0.11 in /usr/local/lib/python3.7/dist-packages (from scikit-surprise->surprise) (1.2.0)\n",
            "Requirement already satisfied: numpy>=1.11.2 in /usr/local/lib/python3.7/dist-packages (from scikit-surprise->surprise) (1.21.6)\n",
            "Requirement already satisfied: scipy>=1.0.0 in /usr/local/lib/python3.7/dist-packages (from scikit-surprise->surprise) (1.7.3)\n",
            "Requirement already satisfied: six>=1.10.0 in /usr/local/lib/python3.7/dist-packages (from scikit-surprise->surprise) (1.15.0)\n",
            "Building wheels for collected packages: scikit-surprise\n",
            "  Building wheel for scikit-surprise (setup.py) ... \u001b[?25l\u001b[?25hdone\n",
            "  Created wheel for scikit-surprise: filename=scikit_surprise-1.1.1-cp37-cp37m-linux_x86_64.whl size=1633965 sha256=e3c34e7e5fef92c074e18e9eeee7bb65c503031a2ff6db40ccbbf4ed05fa0546\n",
            "  Stored in directory: /root/.cache/pip/wheels/76/44/74/b498c42be47b2406bd27994e16c5188e337c657025ab400c1c\n",
            "Successfully built scikit-surprise\n",
            "Installing collected packages: scikit-surprise, surprise\n",
            "Successfully installed scikit-surprise-1.1.1 surprise-0.1\n"
          ]
        }
      ]
    },
    {
      "cell_type": "code",
      "metadata": {
        "id": "XGVThP8986R6"
      },
      "source": [
        "import pandas as pd\n",
        "import numpy as np\n",
        "from surprise import KNNBasic,Reader, Dataset, SVD\n",
        "from surprise.model_selection import KFold, cross_validate\n",
        "import matplotlib.pyplot as plt"
      ],
      "execution_count": null,
      "outputs": []
    },
    {
      "cell_type": "markdown",
      "metadata": {
        "id": "pBfsm7PVFD7l"
      },
      "source": [
        "**a. Read data from “ratings small.csv” with line format: 'userID movieID rating \n",
        "timestamp'.**"
      ]
    },
    {
      "cell_type": "code",
      "metadata": {
        "id": "KOCDmz60-XL3",
        "outputId": "116c79cf-08a5-4080-a2b7-0a7b83f82e7e",
        "colab": {
          "base_uri": "https://localhost:8080/"
        }
      },
      "source": [
        "from google.colab import drive\n",
        "drive.mount('/content/drive')\n",
        "reader = Reader(line_format='user item rating timestamp', sep=',', skip_lines = 1)\n",
        "data = Dataset.load_from_file('/content/drive/MyDrive/Colab Notebooks/ratings_small.csv', reader=reader)"
      ],
      "execution_count": null,
      "outputs": [
        {
          "output_type": "stream",
          "name": "stdout",
          "text": [
            "Drive already mounted at /content/drive; to attempt to forcibly remount, call drive.mount(\"/content/drive\", force_remount=True).\n"
          ]
        }
      ]
    },
    {
      "cell_type": "markdown",
      "metadata": {
        "id": "lWAleS6EIRQO"
      },
      "source": [
        "**b. MAE and RMSE are two famous metrics for evaluating the performances of a recommender system. The definition of MAE can be found via**"
      ]
    },
    {
      "cell_type": "code",
      "metadata": {
        "colab": {
          "base_uri": "https://localhost:8080/"
        },
        "id": "dBVUd_GqG6t8",
        "outputId": "09f7678b-5473-48df-efab-ea8761555e2e"
      },
      "source": [
        "pmf_svd = SVD()\n",
        "cv_pmf = cross_validate(pmf_svd, data, measures=['RMSE', 'MAE'], cv=5, verbose=True);"
      ],
      "execution_count": null,
      "outputs": [
        {
          "output_type": "stream",
          "name": "stdout",
          "text": [
            "Evaluating RMSE, MAE of algorithm SVD on 5 split(s).\n",
            "\n",
            "                  Fold 1  Fold 2  Fold 3  Fold 4  Fold 5  Mean    Std     \n",
            "RMSE (testset)    0.8991  0.8984  0.8962  0.9014  0.8868  0.8964  0.0051  \n",
            "MAE (testset)     0.6925  0.6926  0.6908  0.6922  0.6824  0.6901  0.0039  \n",
            "Fit time          4.99    5.17    7.32    5.79    4.93    5.64    0.89    \n",
            "Test time         0.19    0.37    0.37    0.21    0.16    0.26    0.09    \n"
          ]
        }
      ]
    },
    {
      "cell_type": "markdown",
      "metadata": {
        "id": "-sCfw-wSP7kI"
      },
      "source": [
        "**c. Compute the average MAE and RMSE of the Probabilistic Matrix Factorization \n",
        "(PMF), User based Collaborative Filtering, Item based Collaborative Filtering, \n",
        "under the 5-folds cross-validation (10 points)**"
      ]
    },
    {
      "cell_type": "code",
      "metadata": {
        "colab": {
          "base_uri": "https://localhost:8080/"
        },
        "id": "IKLKWvn6PI9B",
        "outputId": "43017d95-b0d6-424b-c386-5d346840e48e"
      },
      "source": [
        "sim_options = {'user_based': True}\n",
        "user_based_cf = KNNBasic(sim_options=sim_options)\n",
        "cv_ub = cross_validate(user_based_cf, data, measures=['RMSE', 'MAE'], cv=5, verbose=True);"
      ],
      "execution_count": null,
      "outputs": [
        {
          "output_type": "stream",
          "name": "stdout",
          "text": [
            "Computing the msd similarity matrix...\n",
            "Done computing similarity matrix.\n",
            "Computing the msd similarity matrix...\n",
            "Done computing similarity matrix.\n",
            "Computing the msd similarity matrix...\n",
            "Done computing similarity matrix.\n",
            "Computing the msd similarity matrix...\n",
            "Done computing similarity matrix.\n",
            "Computing the msd similarity matrix...\n",
            "Done computing similarity matrix.\n",
            "Evaluating RMSE, MAE of algorithm KNNBasic on 5 split(s).\n",
            "\n",
            "                  Fold 1  Fold 2  Fold 3  Fold 4  Fold 5  Mean    Std     \n",
            "RMSE (testset)    0.9672  0.9785  0.9654  0.9645  0.9659  0.9683  0.0052  \n",
            "MAE (testset)     0.7447  0.7501  0.7386  0.7424  0.7433  0.7438  0.0037  \n",
            "Fit time          0.15    0.18    0.15    0.16    0.16    0.16    0.01    \n",
            "Test time         1.63    1.52    1.50    1.62    1.65    1.58    0.06    \n"
          ]
        }
      ]
    },
    {
      "cell_type": "markdown",
      "metadata": {
        "id": "2WttQVWUQMdi"
      },
      "source": [
        "**c. Compute the average MAE and RMSE of the Probabilistic Matrix Factorization \n",
        "(PMF), User based Collaborative Filtering, Item based Collaborative Filtering, \n",
        "under the 5-folds cross-validation (10 points)**"
      ]
    },
    {
      "cell_type": "code",
      "metadata": {
        "colab": {
          "base_uri": "https://localhost:8080/"
        },
        "id": "kst2HdGgP9vJ",
        "outputId": "4aabb2ea-0550-4a5a-ddd4-8996e824f1e6"
      },
      "source": [
        "sim_options = {'user_based': False}\n",
        "item_based_cf = KNNBasic(sim_options=sim_options)\n",
        "cv_ib = cross_validate(item_based_cf, data, measures=['RMSE', 'MAE'], cv=5, verbose=True);"
      ],
      "execution_count": null,
      "outputs": [
        {
          "output_type": "stream",
          "name": "stdout",
          "text": [
            "Computing the msd similarity matrix...\n",
            "Done computing similarity matrix.\n",
            "Computing the msd similarity matrix...\n",
            "Done computing similarity matrix.\n",
            "Computing the msd similarity matrix...\n",
            "Done computing similarity matrix.\n",
            "Computing the msd similarity matrix...\n",
            "Done computing similarity matrix.\n",
            "Computing the msd similarity matrix...\n",
            "Done computing similarity matrix.\n",
            "Evaluating RMSE, MAE of algorithm KNNBasic on 5 split(s).\n",
            "\n",
            "                  Fold 1  Fold 2  Fold 3  Fold 4  Fold 5  Mean    Std     \n",
            "RMSE (testset)    0.9287  0.9406  0.9311  0.9364  0.9360  0.9346  0.0042  \n",
            "MAE (testset)     0.7148  0.7242  0.7210  0.7212  0.7238  0.7210  0.0034  \n",
            "Fit time          5.01    4.07    4.00    6.48    6.74    5.26    1.16    \n",
            "Test time         11.20   6.81    6.77    7.45    6.87    7.82    1.71    \n"
          ]
        }
      ]
    },
    {
      "cell_type": "markdown",
      "metadata": {
        "id": "378VXVN_QfLU"
      },
      "source": [
        "**d. Compare the average (mean) performances of User-based collaborative filtering, \n",
        "item-based collaborative filtering, PMF with respect to RMSE and MAE.  Which \n",
        "ML model is the best in the movie rating data? (10 points)**"
      ]
    },
    {
      "cell_type": "code",
      "metadata": {
        "colab": {
          "base_uri": "https://localhost:8080/"
        },
        "id": "5eqAwczrQN7H",
        "outputId": "d6cbc146-e810-4ded-bd9a-2117bdfffbab"
      },
      "source": [
        "pmf = ('PMF', cv_pmf['test_mae'].mean(), cv_pmf['test_rmse'].mean())\n",
        "user_cf = ('User based CF', cv_ub['test_mae'].mean(), cv_ub['test_rmse'].mean())\n",
        "item_cf = ('Item based CF', cv_ib['test_mae'].mean(), cv_ib['test_rmse'].mean())\n",
        "\n",
        "results = [pmf, user_cf, item_cf]\n",
        "\n",
        "print(\"%-12s %12s %12s\" % ('Algorithm', 'MAE Mean', 'RMSE Mean'))\n",
        "\n",
        "for res in results:\n",
        "  if res[0] == 'PMF':\n",
        "    print(\"%-8s %14.3f %12.3f\" % (res[0], res[1], res[2]))\n",
        "  else:\n",
        "    print(\"%-8s %9.3f %12.3f\" % (res[0], res[1], res[2]))"
      ],
      "execution_count": null,
      "outputs": [
        {
          "output_type": "stream",
          "name": "stdout",
          "text": [
            "Algorithm        MAE Mean    RMSE Mean\n",
            "PMF               0.690        0.896\n",
            "User based CF     0.744        0.968\n",
            "Item based CF     0.721        0.935\n"
          ]
        }
      ]
    },
    {
      "cell_type": "markdown",
      "metadata": {
        "id": "uOgPzxETh4Og"
      },
      "source": [
        "**e. Examine how the cosine, MSD (Mean Squared Difference), and Pearson \n",
        "similarities impact the performances of User based Collaborative Filtering and \n",
        "Item based Collaborative Filtering. Plot your results. Is the impact of the three \n",
        "metrics on User based Collaborative Filtering consistent with the impact of the \n",
        "three metrics on Item based Collaborative Filtering? (10 points)**"
      ]
    },
    {
      "cell_type": "code",
      "metadata": {
        "colab": {
          "base_uri": "https://localhost:8080/"
        },
        "id": "YoDAa9Fth-4i",
        "outputId": "76706e3a-e3f2-464d-e9cf-1be7ea61480d"
      },
      "source": [
        "similarities = ['cosine', 'msd', 'pearson']\n",
        "measures = ['RMSE', 'MAE']\n",
        "run_results = {\n",
        "    'ucf': dict(),\n",
        "    'icf': dict()\n",
        "}\n",
        "\n",
        "for similarity in similarities:\n",
        "  user_based_cf = KNNBasic(sim_options={'name': similarity, 'user_based': True})\n",
        "  item_based_cf = KNNBasic(sim_options={'name': similarity, 'user_based': False})\n",
        "\n",
        "  print(f\"Calculating {similarity} for User Based CF\")\n",
        "  cross_validate_user_based_cf = cross_validate(user_based_cf, data, measures, verbose=True, cv=5)\n",
        "\n",
        "  print(f\"Calculating {similarity} for Item Based CF\")\n",
        "  cross_validate_item_based_cf = cross_validate(item_based_cf, data, measures, verbose=True, cv=5)\n",
        "\n",
        "  run_results['ucf'][similarity] = cross_validate_user_based_cf\n",
        "  run_results['icf'][similarity] = cross_validate_item_based_cf"
      ],
      "execution_count": null,
      "outputs": [
        {
          "metadata": {
            "tags": null
          },
          "name": "stdout",
          "output_type": "stream",
          "text": [
            "Calculating cosine for User Based CF\n",
            "Computing the cosine similarity matrix...\n",
            "Done computing similarity matrix.\n",
            "Computing the cosine similarity matrix...\n",
            "Done computing similarity matrix.\n",
            "Computing the cosine similarity matrix...\n",
            "Done computing similarity matrix.\n",
            "Computing the cosine similarity matrix...\n",
            "Done computing similarity matrix.\n",
            "Computing the cosine similarity matrix...\n",
            "Done computing similarity matrix.\n",
            "Evaluating RMSE, MAE of algorithm KNNBasic on 5 split(s).\n",
            "\n",
            "                  Fold 1  Fold 2  Fold 3  Fold 4  Fold 5  Mean    Std     \n",
            "RMSE (testset)    0.9898  0.9883  0.9955  0.9893  0.9973  0.9920  0.0036  \n",
            "MAE (testset)     0.7672  0.7635  0.7684  0.7657  0.7678  0.7665  0.0018  \n",
            "Fit time          0.39    0.39    0.40    0.41    0.40    0.40    0.01    \n",
            "Test time         1.53    1.56    1.54    1.65    1.55    1.57    0.04    \n",
            "Calculating cosine for Item Based CF\n",
            "Computing the cosine similarity matrix...\n",
            "Done computing similarity matrix.\n",
            "Computing the cosine similarity matrix...\n",
            "Done computing similarity matrix.\n",
            "Computing the cosine similarity matrix...\n",
            "Done computing similarity matrix.\n",
            "Computing the cosine similarity matrix...\n",
            "Done computing similarity matrix.\n",
            "Computing the cosine similarity matrix...\n",
            "Done computing similarity matrix.\n",
            "Evaluating RMSE, MAE of algorithm KNNBasic on 5 split(s).\n",
            "\n",
            "                  Fold 1  Fold 2  Fold 3  Fold 4  Fold 5  Mean    Std     \n",
            "RMSE (testset)    0.9872  0.9925  0.9961  0.9992  0.9965  0.9943  0.0041  \n",
            "MAE (testset)     0.7692  0.7743  0.7720  0.7779  0.7737  0.7734  0.0028  \n",
            "Fit time          14.17   15.53   13.67   13.96   12.96   14.06   0.84    \n",
            "Test time         6.56    6.68    7.78    6.68    7.16    6.97    0.45    \n",
            "Calculating msd for User Based CF\n",
            "Computing the msd similarity matrix...\n",
            "Done computing similarity matrix.\n",
            "Computing the msd similarity matrix...\n",
            "Done computing similarity matrix.\n",
            "Computing the msd similarity matrix...\n",
            "Done computing similarity matrix.\n",
            "Computing the msd similarity matrix...\n",
            "Done computing similarity matrix.\n",
            "Computing the msd similarity matrix...\n",
            "Done computing similarity matrix.\n",
            "Evaluating RMSE, MAE of algorithm KNNBasic on 5 split(s).\n",
            "\n",
            "                  Fold 1  Fold 2  Fold 3  Fold 4  Fold 5  Mean    Std     \n",
            "RMSE (testset)    0.9806  0.9772  0.9583  0.9676  0.9585  0.9684  0.0093  \n",
            "MAE (testset)     0.7548  0.7502  0.7382  0.7444  0.7372  0.7449  0.0068  \n",
            "Fit time          0.21    0.17    0.18    0.16    0.18    0.18    0.01    \n",
            "Test time         2.65    1.55    1.64    1.56    1.54    1.79    0.43    \n",
            "Calculating msd for Item Based CF\n",
            "Computing the msd similarity matrix...\n",
            "Done computing similarity matrix.\n",
            "Computing the msd similarity matrix...\n",
            "Done computing similarity matrix.\n",
            "Computing the msd similarity matrix...\n",
            "Done computing similarity matrix.\n",
            "Computing the msd similarity matrix...\n",
            "Done computing similarity matrix.\n",
            "Computing the msd similarity matrix...\n",
            "Done computing similarity matrix.\n",
            "Evaluating RMSE, MAE of algorithm KNNBasic on 5 split(s).\n",
            "\n",
            "                  Fold 1  Fold 2  Fold 3  Fold 4  Fold 5  Mean    Std     \n",
            "RMSE (testset)    0.9328  0.9374  0.9400  0.9364  0.9307  0.9355  0.0033  \n",
            "MAE (testset)     0.7207  0.7251  0.7247  0.7221  0.7163  0.7218  0.0032  \n",
            "Fit time          3.93    4.32    4.07    3.87    4.51    4.14    0.24    \n",
            "Test time         6.86    6.99    8.61    6.84    6.83    7.22    0.69    \n",
            "Calculating pearson for User Based CF\n",
            "Computing the pearson similarity matrix...\n",
            "Done computing similarity matrix.\n",
            "Computing the pearson similarity matrix...\n",
            "Done computing similarity matrix.\n",
            "Computing the pearson similarity matrix...\n",
            "Done computing similarity matrix.\n",
            "Computing the pearson similarity matrix...\n",
            "Done computing similarity matrix.\n",
            "Computing the pearson similarity matrix...\n",
            "Done computing similarity matrix.\n",
            "Evaluating RMSE, MAE of algorithm KNNBasic on 5 split(s).\n",
            "\n",
            "                  Fold 1  Fold 2  Fold 3  Fold 4  Fold 5  Mean    Std     \n",
            "RMSE (testset)    0.9956  0.9941  0.9974  1.0012  0.9980  0.9973  0.0024  \n",
            "MAE (testset)     0.7721  0.7671  0.7701  0.7731  0.7737  0.7712  0.0024  \n",
            "Fit time          0.50    0.54    0.54    0.56    0.57    0.54    0.02    \n",
            "Test time         1.53    1.61    1.62    1.52    1.61    1.58    0.04    \n",
            "Calculating pearson for Item Based CF\n",
            "Computing the pearson similarity matrix...\n",
            "Done computing similarity matrix.\n",
            "Computing the pearson similarity matrix...\n",
            "Done computing similarity matrix.\n",
            "Computing the pearson similarity matrix...\n",
            "Done computing similarity matrix.\n",
            "Computing the pearson similarity matrix...\n",
            "Done computing similarity matrix.\n",
            "Computing the pearson similarity matrix...\n",
            "Done computing similarity matrix.\n",
            "Evaluating RMSE, MAE of algorithm KNNBasic on 5 split(s).\n",
            "\n",
            "                  Fold 1  Fold 2  Fold 3  Fold 4  Fold 5  Mean    Std     \n",
            "RMSE (testset)    0.9774  1.0042  0.9842  0.9838  0.9935  0.9886  0.0093  \n",
            "MAE (testset)     0.7617  0.7790  0.7630  0.7655  0.7708  0.7680  0.0063  \n",
            "Fit time          21.79   18.65   17.40   19.23   18.49   19.11   1.46    \n",
            "Test time         6.57    7.60    6.91    6.80    6.81    6.94    0.35    \n"
          ]
        }
      ]
    },
    {
      "cell_type": "code",
      "metadata": {
        "id": "ejTLsQTajR9x"
      },
      "source": [
        "plot_data = {\n",
        "    'mae': {\n",
        "      'cosine': [],\n",
        "      'msd': [],\n",
        "      'pearson': []\n",
        "    },\n",
        "    'rmse': {\n",
        "      'cosine': [],\n",
        "      'msd': [],\n",
        "      'pearson': []\n",
        "    }\n",
        "}\n",
        "\n",
        "for k, v in run_results.items():\n",
        "  for key, result in run_results[k].items():\n",
        "    plot_data['mae'][key].append(result['test_mae'].mean())\n",
        "    plot_data['rmse'][key].append(result['test_rmse'].mean())"
      ],
      "execution_count": null,
      "outputs": []
    },
    {
      "cell_type": "code",
      "metadata": {
        "colab": {
          "base_uri": "https://localhost:8080/"
        },
        "id": "wY7qDpwfsAi0",
        "outputId": "45d00c5e-4944-47f4-9526-915ca698a490"
      },
      "source": [
        "plot_data"
      ],
      "execution_count": null,
      "outputs": [
        {
          "output_type": "execute_result",
          "data": {
            "text/plain": [
              "{'mae': {'cosine': [0.7665075357684873, 0.7734136989558881],\n",
              "  'msd': [0.7449464876950227, 0.7217972678137322],\n",
              "  'pearson': [0.7712169193353475, 0.7679858152462143]},\n",
              " 'rmse': {'cosine': [0.9920348017051334, 0.9943185874984642],\n",
              "  'msd': [0.9684190594800384, 0.935474326647935],\n",
              "  'pearson': [0.9972805943351293, 0.9886063851458946]}}"
            ]
          },
          "metadata": {},
          "execution_count": 12
        }
      ]
    },
    {
      "cell_type": "code",
      "metadata": {
        "colab": {
          "base_uri": "https://localhost:8080/",
          "height": 297
        },
        "id": "6dlz-OuEnlAp",
        "outputId": "f4a4ff53-a510-49ca-d655-be7020b54107"
      },
      "source": [
        "labels = ['User based CF', 'Item based CF']\n",
        "\n",
        "x = np.arange(len(labels))  # the label locations\n",
        "width = 0.2\n",
        "\n",
        "# plot data in grouped manner of bar type\n",
        "plt.bar(x-0.2, plot_data['mae']['cosine'], width, color='red')\n",
        "plt.bar(x, plot_data['mae']['msd'], width, color='blue')\n",
        "plt.bar(x+0.2, plot_data['mae']['pearson'], width, color='green')\n",
        "\n",
        "plt.xticks(x, labels)\n",
        "plt.ylabel(\"Mean_absolute_error\")\n",
        "plt.yticks()\n",
        "plt.legend([\"Cosine\", \"Mean Squared Difference)\", \"Pearson\"])\n",
        "plt.tight_layout()\n",
        "\n",
        "plt.show()"
      ],
      "execution_count": null,
      "outputs": [
        {
          "output_type": "display_data",
          "data": {
            "text/plain": [
              "<Figure size 432x288 with 1 Axes>"
            ],
            "image/png": "[encoded data removed]"
          },
          "metadata": {
            "needs_background": "light"
          }
        }
      ]
    },
    {
      "cell_type": "code",
      "metadata": {
        "colab": {
          "base_uri": "https://localhost:8080/",
          "height": 297
        },
        "id": "kAd-hzrlsrUL",
        "outputId": "6e4ae3ce-c98f-4940-e0ab-278d4ce8e78b"
      },
      "source": [
        "labels = ['User based CF', 'Item based CF']\n",
        "\n",
        "x = np.arange(len(labels))  # the label locations\n",
        "width = 0.2\n",
        "\n",
        "# plot data in grouped manner of bar type\n",
        "plt.bar(x-0.2, plot_data['rmse']['cosine'], width, color='red')\n",
        "plt.bar(x, plot_data['rmse']['msd'], width, color='blue')\n",
        "plt.bar(x+0.2, plot_data['rmse']['pearson'], width, color='green')\n",
        "\n",
        "plt.xticks(x, labels)\n",
        "plt.ylabel(\"Root-mean-square_deviation.\")\n",
        "plt.yticks()\n",
        "plt.legend([\"Cosine\", \"Mean Squared Difference)\", \"Pearson\"])\n",
        "plt.tight_layout()\n",
        "\n",
        "plt.show()"
      ],
      "execution_count": null,
      "outputs": [
        {
          "output_type": "display_data",
          "data": {
            "text/plain": [
              "<Figure size 432x288 with 1 Axes>"
            ],
            "image/png": "[encoded data removed]"
          },
          "metadata": {
            "needs_background": "light"
          }
        }
      ]
    },
    {
      "cell_type": "markdown",
      "source": [
        "**f. Examine how the number of neighbors impacts the performances of User based \n",
        "Collaborative Filtering and Item based Collaborative Filtering? Plot your results.  \n",
        "(10 points)**"
      ],
      "metadata": {
        "id": "hV_XzhSN7CWE"
      }
    },
    {
      "cell_type": "code",
      "metadata": {
        "colab": {
          "base_uri": "https://localhost:8080/"
        },
        "id": "Jtrm3ZISv1iK",
        "outputId": "5a2b7685-9faf-46f4-8f53-e8e8c0a15900"
      },
      "source": [
        "min_k_value = 1\n",
        "mean = 99999\n",
        "ucf_k_results = []\n",
        "\n",
        "for i in range(20):\n",
        "  knn_ucf = KNNBasic(sim_options={'user_based': True}, k=i)\n",
        "  cv_knn_ucf = cross_validate(knn_ucf, data, measures, verbose=True, cv=5)\n",
        "\n",
        "  curr_mean = cv_knn_ucf['test_rmse'].mean()\n",
        "  if curr_mean < mean:\n",
        "    mean = curr_mean\n",
        "    min_k_value = i\n",
        "  ucf_k_results.append(curr_mean)\n",
        "  print(i)\n",
        "\n",
        "print(min_k_value, mean)"
      ],
      "execution_count": null,
      "outputs": [
        {
          "output_type": "stream",
          "name": "stdout",
          "text": [
            "Computing the msd similarity matrix...\n",
            "Done computing similarity matrix.\n",
            "Computing the msd similarity matrix...\n",
            "Done computing similarity matrix.\n",
            "Computing the msd similarity matrix...\n",
            "Done computing similarity matrix.\n",
            "Computing the msd similarity matrix...\n",
            "Done computing similarity matrix.\n",
            "Computing the msd similarity matrix...\n",
            "Done computing similarity matrix.\n",
            "Evaluating RMSE, MAE of algorithm KNNBasic on 5 split(s).\n",
            "\n",
            "                  Fold 1  Fold 2  Fold 3  Fold 4  Fold 5  Mean    Std     \n",
            "RMSE (testset)    1.0579  1.0606  1.0645  1.0601  1.0472  1.0580  0.0058  \n",
            "MAE (testset)     0.8473  0.8521  0.8555  0.8509  0.8432  0.8498  0.0042  \n",
            "Fit time          0.16    0.34    0.25    0.20    0.18    0.23    0.06    \n",
            "Test time         0.76    1.40    1.22    0.78    0.89    1.01    0.26    \n",
            "0\n",
            "Computing the msd similarity matrix...\n",
            "Done computing similarity matrix.\n",
            "Computing the msd similarity matrix...\n",
            "Done computing similarity matrix.\n",
            "Computing the msd similarity matrix...\n",
            "Done computing similarity matrix.\n",
            "Computing the msd similarity matrix...\n",
            "Done computing similarity matrix.\n",
            "Computing the msd similarity matrix...\n",
            "Done computing similarity matrix.\n",
            "Evaluating RMSE, MAE of algorithm KNNBasic on 5 split(s).\n",
            "\n",
            "                  Fold 1  Fold 2  Fold 3  Fold 4  Fold 5  Mean    Std     \n",
            "RMSE (testset)    1.2076  1.2127  1.2119  1.2108  1.2110  1.2108  0.0017  \n",
            "MAE (testset)     0.9008  0.9038  0.9033  0.9026  0.9037  0.9029  0.0011  \n",
            "Fit time          0.16    0.21    0.19    0.20    0.21    0.19    0.02    \n",
            "Test time         0.92    1.08    0.94    0.93    1.05    0.98    0.07    \n",
            "1\n",
            "Computing the msd similarity matrix...\n",
            "Done computing similarity matrix.\n",
            "Computing the msd similarity matrix...\n",
            "Done computing similarity matrix.\n",
            "Computing the msd similarity matrix...\n",
            "Done computing similarity matrix.\n",
            "Computing the msd similarity matrix...\n",
            "Done computing similarity matrix.\n",
            "Computing the msd similarity matrix...\n",
            "Done computing similarity matrix.\n",
            "Evaluating RMSE, MAE of algorithm KNNBasic on 5 split(s).\n",
            "\n",
            "                  Fold 1  Fold 2  Fold 3  Fold 4  Fold 5  Mean    Std     \n",
            "RMSE (testset)    1.0629  1.0781  1.0679  1.0676  1.0771  1.0707  0.0059  \n",
            "MAE (testset)     0.8095  0.8198  0.8155  0.8123  0.8211  0.8156  0.0044  \n",
            "Fit time          0.15    0.19    0.20    0.20    0.20    0.19    0.02    \n",
            "Test time         1.03    1.15    1.07    1.08    1.18    1.10    0.05    \n",
            "2\n",
            "Computing the msd similarity matrix...\n",
            "Done computing similarity matrix.\n",
            "Computing the msd similarity matrix...\n",
            "Done computing similarity matrix.\n",
            "Computing the msd similarity matrix...\n",
            "Done computing similarity matrix.\n",
            "Computing the msd similarity matrix...\n",
            "Done computing similarity matrix.\n",
            "Computing the msd similarity matrix...\n",
            "Done computing similarity matrix.\n",
            "Evaluating RMSE, MAE of algorithm KNNBasic on 5 split(s).\n",
            "\n",
            "                  Fold 1  Fold 2  Fold 3  Fold 4  Fold 5  Mean    Std     \n",
            "RMSE (testset)    1.0293  1.0174  1.0270  1.0276  1.0246  1.0252  0.0042  \n",
            "MAE (testset)     0.7895  0.7777  0.7846  0.7863  0.7828  0.7842  0.0039  \n",
            "Fit time          0.16    0.21    0.20    0.24    0.22    0.20    0.03    \n",
            "Test time         1.08    1.09    1.26    1.27    1.22    1.18    0.08    \n",
            "3\n",
            "Computing the msd similarity matrix...\n",
            "Done computing similarity matrix.\n",
            "Computing the msd similarity matrix...\n",
            "Done computing similarity matrix.\n",
            "Computing the msd similarity matrix...\n",
            "Done computing similarity matrix.\n",
            "Computing the msd similarity matrix...\n",
            "Done computing similarity matrix.\n",
            "Computing the msd similarity matrix...\n",
            "Done computing similarity matrix.\n",
            "Evaluating RMSE, MAE of algorithm KNNBasic on 5 split(s).\n",
            "\n",
            "                  Fold 1  Fold 2  Fold 3  Fold 4  Fold 5  Mean    Std     \n",
            "RMSE (testset)    0.9924  0.9995  1.0041  0.9966  1.0013  0.9988  0.0040  \n",
            "MAE (testset)     0.7617  0.7621  0.7675  0.7660  0.7636  0.7642  0.0023  \n",
            "Fit time          0.17    0.22    0.23    0.21    0.21    0.21    0.02    \n",
            "Test time         1.19    1.20    1.29    1.16    1.15    1.20    0.05    \n",
            "4\n",
            "Computing the msd similarity matrix...\n",
            "Done computing similarity matrix.\n",
            "Computing the msd similarity matrix...\n",
            "Done computing similarity matrix.\n",
            "Computing the msd similarity matrix...\n",
            "Done computing similarity matrix.\n",
            "Computing the msd similarity matrix...\n",
            "Done computing similarity matrix.\n",
            "Computing the msd similarity matrix...\n",
            "Done computing similarity matrix.\n",
            "Evaluating RMSE, MAE of algorithm KNNBasic on 5 split(s).\n",
            "\n",
            "                  Fold 1  Fold 2  Fold 3  Fold 4  Fold 5  Mean    Std     \n",
            "RMSE (testset)    0.9880  0.9885  0.9848  0.9887  0.9852  0.9870  0.0017  \n",
            "MAE (testset)     0.7553  0.7545  0.7561  0.7569  0.7518  0.7549  0.0018  \n",
            "Fit time          0.18    0.20    0.20    0.25    0.27    0.22    0.04    \n",
            "Test time         1.35    1.22    1.40    1.98    1.31    1.45    0.27    \n",
            "5\n",
            "Computing the msd similarity matrix...\n",
            "Done computing similarity matrix.\n",
            "Computing the msd similarity matrix...\n",
            "Done computing similarity matrix.\n",
            "Computing the msd similarity matrix...\n",
            "Done computing similarity matrix.\n",
            "Computing the msd similarity matrix...\n",
            "Done computing similarity matrix.\n",
            "Computing the msd similarity matrix...\n",
            "Done computing similarity matrix.\n",
            "Evaluating RMSE, MAE of algorithm KNNBasic on 5 split(s).\n",
            "\n",
            "                  Fold 1  Fold 2  Fold 3  Fold 4  Fold 5  Mean    Std     \n",
            "RMSE (testset)    0.9787  0.9733  0.9843  0.9811  0.9654  0.9765  0.0066  \n",
            "MAE (testset)     0.7443  0.7459  0.7506  0.7494  0.7428  0.7466  0.0030  \n",
            "Fit time          0.17    0.30    0.19    0.20    0.22    0.22    0.05    \n",
            "Test time         1.40    1.19    1.33    1.33    1.18    1.28    0.09    \n",
            "6\n",
            "Computing the msd similarity matrix...\n",
            "Done computing similarity matrix.\n",
            "Computing the msd similarity matrix...\n",
            "Done computing similarity matrix.\n",
            "Computing the msd similarity matrix...\n",
            "Done computing similarity matrix.\n",
            "Computing the msd similarity matrix...\n",
            "Done computing similarity matrix.\n",
            "Computing the msd similarity matrix...\n",
            "Done computing similarity matrix.\n",
            "Evaluating RMSE, MAE of algorithm KNNBasic on 5 split(s).\n",
            "\n",
            "                  Fold 1  Fold 2  Fold 3  Fold 4  Fold 5  Mean    Std     \n",
            "RMSE (testset)    0.9740  0.9665  0.9720  0.9727  0.9751  0.9721  0.0030  \n",
            "MAE (testset)     0.7411  0.7388  0.7452  0.7442  0.7449  0.7428  0.0025  \n",
            "Fit time          0.16    0.20    0.21    0.22    0.22    0.20    0.02    \n",
            "Test time         1.34    1.23    1.28    1.38    1.27    1.30    0.06    \n",
            "7\n",
            "Computing the msd similarity matrix...\n",
            "Done computing similarity matrix.\n",
            "Computing the msd similarity matrix...\n",
            "Done computing similarity matrix.\n",
            "Computing the msd similarity matrix...\n",
            "Done computing similarity matrix.\n",
            "Computing the msd similarity matrix...\n",
            "Done computing similarity matrix.\n",
            "Computing the msd similarity matrix...\n",
            "Done computing similarity matrix.\n",
            "Evaluating RMSE, MAE of algorithm KNNBasic on 5 split(s).\n",
            "\n",
            "                  Fold 1  Fold 2  Fold 3  Fold 4  Fold 5  Mean    Std     \n",
            "RMSE (testset)    0.9568  0.9724  0.9763  0.9693  0.9700  0.9690  0.0065  \n",
            "MAE (testset)     0.7332  0.7470  0.7446  0.7401  0.7416  0.7413  0.0047  \n",
            "Fit time          0.16    0.19    0.19    0.22    0.20    0.19    0.02    \n",
            "Test time         1.34    1.40    1.24    1.40    1.23    1.32    0.07    \n",
            "8\n",
            "Computing the msd similarity matrix...\n",
            "Done computing similarity matrix.\n",
            "Computing the msd similarity matrix...\n",
            "Done computing similarity matrix.\n",
            "Computing the msd similarity matrix...\n",
            "Done computing similarity matrix.\n",
            "Computing the msd similarity matrix...\n",
            "Done computing similarity matrix.\n",
            "Computing the msd similarity matrix...\n",
            "Done computing similarity matrix.\n",
            "Evaluating RMSE, MAE of algorithm KNNBasic on 5 split(s).\n",
            "\n",
            "                  Fold 1  Fold 2  Fold 3  Fold 4  Fold 5  Mean    Std     \n",
            "RMSE (testset)    0.9724  0.9600  0.9666  0.9750  0.9603  0.9668  0.0061  \n",
            "MAE (testset)     0.7447  0.7346  0.7373  0.7474  0.7348  0.7397  0.0053  \n",
            "Fit time          0.16    0.19    0.24    0.19    0.19    0.19    0.03    \n",
            "Test time         1.25    1.40    2.01    1.25    1.37    1.46    0.29    \n",
            "9\n",
            "Computing the msd similarity matrix...\n",
            "Done computing similarity matrix.\n",
            "Computing the msd similarity matrix...\n",
            "Done computing similarity matrix.\n",
            "Computing the msd similarity matrix...\n",
            "Done computing similarity matrix.\n",
            "Computing the msd similarity matrix...\n",
            "Done computing similarity matrix.\n",
            "Computing the msd similarity matrix...\n",
            "Done computing similarity matrix.\n",
            "Evaluating RMSE, MAE of algorithm KNNBasic on 5 split(s).\n",
            "\n",
            "                  Fold 1  Fold 2  Fold 3  Fold 4  Fold 5  Mean    Std     \n",
            "RMSE (testset)    0.9672  0.9568  0.9650  0.9707  0.9682  0.9656  0.0048  \n",
            "MAE (testset)     0.7371  0.7350  0.7384  0.7413  0.7414  0.7386  0.0025  \n",
            "Fit time          0.15    0.29    0.26    0.22    0.23    0.23    0.05    \n",
            "Test time         1.30    2.22    1.78    1.48    1.49    1.65    0.32    \n",
            "10\n",
            "Computing the msd similarity matrix...\n",
            "Done computing similarity matrix.\n",
            "Computing the msd similarity matrix...\n",
            "Done computing similarity matrix.\n",
            "Computing the msd similarity matrix...\n",
            "Done computing similarity matrix.\n",
            "Computing the msd similarity matrix...\n",
            "Done computing similarity matrix.\n",
            "Computing the msd similarity matrix...\n",
            "Done computing similarity matrix.\n",
            "Evaluating RMSE, MAE of algorithm KNNBasic on 5 split(s).\n",
            "\n",
            "                  Fold 1  Fold 2  Fold 3  Fold 4  Fold 5  Mean    Std     \n",
            "RMSE (testset)    0.9672  0.9594  0.9469  0.9700  0.9694  0.9626  0.0087  \n",
            "MAE (testset)     0.7404  0.7323  0.7237  0.7436  0.7417  0.7364  0.0074  \n",
            "Fit time          0.16    0.21    0.20    0.19    0.19    0.19    0.02    \n",
            "Test time         1.31    1.36    1.43    1.26    1.30    1.33    0.06    \n",
            "11\n",
            "Computing the msd similarity matrix...\n",
            "Done computing similarity matrix.\n",
            "Computing the msd similarity matrix...\n",
            "Done computing similarity matrix.\n",
            "Computing the msd similarity matrix...\n",
            "Done computing similarity matrix.\n",
            "Computing the msd similarity matrix...\n",
            "Done computing similarity matrix.\n",
            "Computing the msd similarity matrix...\n",
            "Done computing similarity matrix.\n",
            "Evaluating RMSE, MAE of algorithm KNNBasic on 5 split(s).\n",
            "\n",
            "                  Fold 1  Fold 2  Fold 3  Fold 4  Fold 5  Mean    Std     \n",
            "RMSE (testset)    0.9627  0.9550  0.9716  0.9605  0.9580  0.9616  0.0056  \n",
            "MAE (testset)     0.7370  0.7304  0.7439  0.7328  0.7345  0.7357  0.0046  \n",
            "Fit time          0.14    0.19    0.20    0.19    0.18    0.18    0.02    \n",
            "Test time         1.41    1.32    1.41    1.33    1.29    1.35    0.05    \n",
            "12\n",
            "Computing the msd similarity matrix...\n",
            "Done computing similarity matrix.\n",
            "Computing the msd similarity matrix...\n",
            "Done computing similarity matrix.\n",
            "Computing the msd similarity matrix...\n",
            "Done computing similarity matrix.\n",
            "Computing the msd similarity matrix...\n",
            "Done computing similarity matrix.\n",
            "Computing the msd similarity matrix...\n",
            "Done computing similarity matrix.\n",
            "Evaluating RMSE, MAE of algorithm KNNBasic on 5 split(s).\n",
            "\n",
            "                  Fold 1  Fold 2  Fold 3  Fold 4  Fold 5  Mean    Std     \n",
            "RMSE (testset)    0.9549  0.9587  0.9656  0.9691  0.9629  0.9622  0.0050  \n",
            "MAE (testset)     0.7295  0.7352  0.7399  0.7402  0.7362  0.7362  0.0039  \n",
            "Fit time          0.16    0.18    0.19    0.18    0.20    0.18    0.01    \n",
            "Test time         1.43    1.32    1.31    1.46    1.36    1.38    0.06    \n",
            "13\n",
            "Computing the msd similarity matrix...\n",
            "Done computing similarity matrix.\n",
            "Computing the msd similarity matrix...\n",
            "Done computing similarity matrix.\n",
            "Computing the msd similarity matrix...\n",
            "Done computing similarity matrix.\n",
            "Computing the msd similarity matrix...\n",
            "Done computing similarity matrix.\n",
            "Computing the msd similarity matrix...\n",
            "Done computing similarity matrix.\n",
            "Evaluating RMSE, MAE of algorithm KNNBasic on 5 split(s).\n",
            "\n",
            "                  Fold 1  Fold 2  Fold 3  Fold 4  Fold 5  Mean    Std     \n",
            "RMSE (testset)    0.9603  0.9606  0.9664  0.9674  0.9525  0.9615  0.0053  \n",
            "MAE (testset)     0.7343  0.7358  0.7395  0.7406  0.7291  0.7359  0.0041  \n",
            "Fit time          0.15    0.18    0.19    0.19    0.24    0.19    0.03    \n",
            "Test time         1.44    1.33    1.33    1.46    2.30    1.57    0.37    \n",
            "14\n",
            "Computing the msd similarity matrix...\n",
            "Done computing similarity matrix.\n",
            "Computing the msd similarity matrix...\n",
            "Done computing similarity matrix.\n",
            "Computing the msd similarity matrix...\n",
            "Done computing similarity matrix.\n",
            "Computing the msd similarity matrix...\n",
            "Done computing similarity matrix.\n",
            "Computing the msd similarity matrix...\n",
            "Done computing similarity matrix.\n",
            "Evaluating RMSE, MAE of algorithm KNNBasic on 5 split(s).\n",
            "\n",
            "                  Fold 1  Fold 2  Fold 3  Fold 4  Fold 5  Mean    Std     \n",
            "RMSE (testset)    0.9596  0.9730  0.9630  0.9580  0.9643  0.9636  0.0052  \n",
            "MAE (testset)     0.7351  0.7462  0.7385  0.7336  0.7351  0.7377  0.0045  \n",
            "Fit time          0.20    0.18    0.19    0.18    0.18    0.19    0.01    \n",
            "Test time         1.74    1.35    1.31    1.46    1.32    1.44    0.16    \n",
            "15\n",
            "Computing the msd similarity matrix...\n",
            "Done computing similarity matrix.\n",
            "Computing the msd similarity matrix...\n",
            "Done computing similarity matrix.\n",
            "Computing the msd similarity matrix...\n",
            "Done computing similarity matrix.\n",
            "Computing the msd similarity matrix...\n",
            "Done computing similarity matrix.\n",
            "Computing the msd similarity matrix...\n",
            "Done computing similarity matrix.\n",
            "Evaluating RMSE, MAE of algorithm KNNBasic on 5 split(s).\n",
            "\n",
            "                  Fold 1  Fold 2  Fold 3  Fold 4  Fold 5  Mean    Std     \n",
            "RMSE (testset)    0.9671  0.9635  0.9650  0.9645  0.9590  0.9638  0.0027  \n",
            "MAE (testset)     0.7403  0.7368  0.7395  0.7394  0.7345  0.7381  0.0022  \n",
            "Fit time          0.14    0.18    0.18    0.19    0.18    0.17    0.02    \n",
            "Test time         1.46    1.37    1.50    1.36    1.38    1.41    0.06    \n",
            "16\n",
            "Computing the msd similarity matrix...\n",
            "Done computing similarity matrix.\n",
            "Computing the msd similarity matrix...\n",
            "Done computing similarity matrix.\n",
            "Computing the msd similarity matrix...\n",
            "Done computing similarity matrix.\n",
            "Computing the msd similarity matrix...\n",
            "Done computing similarity matrix.\n",
            "Computing the msd similarity matrix...\n",
            "Done computing similarity matrix.\n",
            "Evaluating RMSE, MAE of algorithm KNNBasic on 5 split(s).\n",
            "\n",
            "                  Fold 1  Fold 2  Fold 3  Fold 4  Fold 5  Mean    Std     \n",
            "RMSE (testset)    0.9688  0.9563  0.9608  0.9630  0.9678  0.9633  0.0046  \n",
            "MAE (testset)     0.7415  0.7332  0.7369  0.7369  0.7420  0.7381  0.0033  \n",
            "Fit time          0.15    0.19    0.20    0.18    0.18    0.18    0.02    \n",
            "Test time         1.49    1.36    1.53    1.43    1.40    1.44    0.06    \n",
            "17\n",
            "Computing the msd similarity matrix...\n",
            "Done computing similarity matrix.\n",
            "Computing the msd similarity matrix...\n",
            "Done computing similarity matrix.\n",
            "Computing the msd similarity matrix...\n",
            "Done computing similarity matrix.\n",
            "Computing the msd similarity matrix...\n",
            "Done computing similarity matrix.\n",
            "Computing the msd similarity matrix...\n",
            "Done computing similarity matrix.\n",
            "Evaluating RMSE, MAE of algorithm KNNBasic on 5 split(s).\n",
            "\n",
            "                  Fold 1  Fold 2  Fold 3  Fold 4  Fold 5  Mean    Std     \n",
            "RMSE (testset)    0.9663  0.9644  0.9603  0.9704  0.9503  0.9623  0.0068  \n",
            "MAE (testset)     0.7414  0.7373  0.7362  0.7418  0.7290  0.7372  0.0046  \n",
            "Fit time          0.18    0.19    0.20    0.20    0.18    0.19    0.01    \n",
            "Test time         1.50    1.38    1.41    1.51    1.38    1.44    0.06    \n",
            "18\n",
            "Computing the msd similarity matrix...\n",
            "Done computing similarity matrix.\n",
            "Computing the msd similarity matrix...\n",
            "Done computing similarity matrix.\n",
            "Computing the msd similarity matrix...\n",
            "Done computing similarity matrix.\n",
            "Computing the msd similarity matrix...\n",
            "Done computing similarity matrix.\n",
            "Computing the msd similarity matrix...\n",
            "Done computing similarity matrix.\n",
            "Evaluating RMSE, MAE of algorithm KNNBasic on 5 split(s).\n",
            "\n",
            "                  Fold 1  Fold 2  Fold 3  Fold 4  Fold 5  Mean    Std     \n",
            "RMSE (testset)    0.9622  0.9593  0.9690  0.9586  0.9605  0.9619  0.0037  \n",
            "MAE (testset)     0.7378  0.7354  0.7412  0.7361  0.7369  0.7375  0.0020  \n",
            "Fit time          0.15    0.20    0.23    0.26    0.26    0.22    0.04    \n",
            "Test time         1.53    1.50    2.46    2.50    1.98    1.99    0.43    \n",
            "19\n",
            "14 0.9614631833173439\n"
          ]
        }
      ]
    },
    {
      "cell_type": "code",
      "metadata": {
        "colab": {
          "base_uri": "https://localhost:8080/"
        },
        "id": "cvja9uxUzYBz",
        "outputId": "961951d9-1202-4ff8-a4d4-5dd4c59e8b8f"
      },
      "source": [
        "min_k_value = 1\n",
        "mean = 99999\n",
        "icf_k_results = []\n",
        "\n",
        "for i in range(20):\n",
        "  knn_ucf = KNNBasic(sim_options={'user_based': False}, k=i)\n",
        "  cv_knn_ucf = cross_validate(knn_ucf, data, measures, verbose=True, cv=5)\n",
        "\n",
        "  curr_mean = cv_knn_ucf['test_rmse'].mean()\n",
        "  if curr_mean < mean:\n",
        "    mean = curr_mean\n",
        "    min_k_value = i\n",
        "  icf_k_results.append(curr_mean)\n",
        "\n",
        "print(min_k_value, mean)"
      ],
      "execution_count": null,
      "outputs": [
        {
          "output_type": "stream",
          "name": "stdout",
          "text": [
            "Computing the msd similarity matrix...\n",
            "Done computing similarity matrix.\n",
            "Computing the msd similarity matrix...\n",
            "Done computing similarity matrix.\n",
            "Computing the msd similarity matrix...\n",
            "Done computing similarity matrix.\n",
            "Computing the msd similarity matrix...\n",
            "Done computing similarity matrix.\n",
            "Computing the msd similarity matrix...\n",
            "Done computing similarity matrix.\n",
            "Evaluating RMSE, MAE of algorithm KNNBasic on 5 split(s).\n",
            "\n",
            "                  Fold 1  Fold 2  Fold 3  Fold 4  Fold 5  Mean    Std     \n",
            "RMSE (testset)    1.0585  1.0672  1.0513  1.0529  1.0604  1.0581  0.0057  \n",
            "MAE (testset)     0.8494  0.8562  0.8453  0.8455  0.8526  0.8498  0.0042  \n",
            "Fit time          5.08    6.27    4.43    4.26    4.04    4.81    0.80    \n",
            "Test time         4.09    5.70    4.10    4.34    4.24    4.49    0.61    \n",
            "Computing the msd similarity matrix...\n",
            "Done computing similarity matrix.\n",
            "Computing the msd similarity matrix...\n",
            "Done computing similarity matrix.\n",
            "Computing the msd similarity matrix...\n",
            "Done computing similarity matrix.\n",
            "Computing the msd similarity matrix...\n",
            "Done computing similarity matrix.\n",
            "Computing the msd similarity matrix...\n",
            "Done computing similarity matrix.\n",
            "Evaluating RMSE, MAE of algorithm KNNBasic on 5 split(s).\n",
            "\n",
            "                  Fold 1  Fold 2  Fold 3  Fold 4  Fold 5  Mean    Std     \n",
            "RMSE (testset)    1.2995  1.3092  1.3045  1.3042  1.2979  1.3031  0.0040  \n",
            "MAE (testset)     0.9637  0.9667  0.9663  0.9668  0.9603  0.9648  0.0025  \n",
            "Fit time          4.06    5.69    5.25    4.29    4.59    4.78    0.61    \n",
            "Test time         5.03    7.38    5.12    5.16    5.57    5.65    0.88    \n",
            "Computing the msd similarity matrix...\n",
            "Done computing similarity matrix.\n",
            "Computing the msd similarity matrix...\n",
            "Done computing similarity matrix.\n",
            "Computing the msd similarity matrix...\n",
            "Done computing similarity matrix.\n",
            "Computing the msd similarity matrix...\n",
            "Done computing similarity matrix.\n",
            "Computing the msd similarity matrix...\n",
            "Done computing similarity matrix.\n",
            "Evaluating RMSE, MAE of algorithm KNNBasic on 5 split(s).\n",
            "\n",
            "                  Fold 1  Fold 2  Fold 3  Fold 4  Fold 5  Mean    Std     \n",
            "RMSE (testset)    1.1453  1.1494  1.1513  1.1480  1.1485  1.1485  0.0019  \n",
            "MAE (testset)     0.8757  0.8738  0.8803  0.8769  0.8771  0.8768  0.0021  \n",
            "Fit time          5.55    4.69    4.09    4.68    4.25    4.65    0.50    \n",
            "Test time         5.62    5.65    5.49    5.77    7.58    6.02    0.79    \n",
            "Computing the msd similarity matrix...\n",
            "Done computing similarity matrix.\n",
            "Computing the msd similarity matrix...\n",
            "Done computing similarity matrix.\n",
            "Computing the msd similarity matrix...\n",
            "Done computing similarity matrix.\n",
            "Computing the msd similarity matrix...\n",
            "Done computing similarity matrix.\n",
            "Computing the msd similarity matrix...\n",
            "Done computing similarity matrix.\n",
            "Evaluating RMSE, MAE of algorithm KNNBasic on 5 split(s).\n",
            "\n",
            "                  Fold 1  Fold 2  Fold 3  Fold 4  Fold 5  Mean    Std     \n",
            "RMSE (testset)    1.0792  1.0841  1.0708  1.0853  1.0795  1.0798  0.0051  \n",
            "MAE (testset)     0.8329  0.8322  0.8248  0.8343  0.8325  0.8314  0.0033  \n",
            "Fit time          4.18    4.33    4.20    4.88    5.38    4.59    0.47    \n",
            "Test time         5.63    5.94    5.81    7.78    6.25    6.28    0.77    \n",
            "Computing the msd similarity matrix...\n",
            "Done computing similarity matrix.\n",
            "Computing the msd similarity matrix...\n",
            "Done computing similarity matrix.\n",
            "Computing the msd similarity matrix...\n",
            "Done computing similarity matrix.\n",
            "Computing the msd similarity matrix...\n",
            "Done computing similarity matrix.\n",
            "Computing the msd similarity matrix...\n",
            "Done computing similarity matrix.\n",
            "Evaluating RMSE, MAE of algorithm KNNBasic on 5 split(s).\n",
            "\n",
            "                  Fold 1  Fold 2  Fold 3  Fold 4  Fold 5  Mean    Std     \n",
            "RMSE (testset)    1.0487  1.0367  1.0469  1.0484  1.0417  1.0445  0.0046  \n",
            "MAE (testset)     0.8064  0.8027  0.8073  0.8106  0.8075  0.8069  0.0025  \n",
            "Fit time          4.23    4.41    5.23    4.93    4.43    4.65    0.37    \n",
            "Test time         6.41    6.13    7.04    6.19    6.17    6.39    0.34    \n",
            "Computing the msd similarity matrix...\n",
            "Done computing similarity matrix.\n",
            "Computing the msd similarity matrix...\n",
            "Done computing similarity matrix.\n",
            "Computing the msd similarity matrix...\n",
            "Done computing similarity matrix.\n",
            "Computing the msd similarity matrix...\n",
            "Done computing similarity matrix.\n",
            "Computing the msd similarity matrix...\n",
            "Done computing similarity matrix.\n",
            "Evaluating RMSE, MAE of algorithm KNNBasic on 5 split(s).\n",
            "\n",
            "                  Fold 1  Fold 2  Fold 3  Fold 4  Fold 5  Mean    Std     \n",
            "RMSE (testset)    1.0164  1.0217  1.0221  1.0213  1.0163  1.0196  0.0026  \n",
            "MAE (testset)     0.7867  0.7898  0.7907  0.7889  0.7868  0.7886  0.0016  \n",
            "Fit time          4.30    6.76    4.35    4.65    4.93    5.00    0.91    \n",
            "Test time         6.37    6.66    6.50    6.51    7.94    6.80    0.58    \n",
            "Computing the msd similarity matrix...\n",
            "Done computing similarity matrix.\n",
            "Computing the msd similarity matrix...\n",
            "Done computing similarity matrix.\n",
            "Computing the msd similarity matrix...\n",
            "Done computing similarity matrix.\n",
            "Computing the msd similarity matrix...\n",
            "Done computing similarity matrix.\n",
            "Computing the msd similarity matrix...\n",
            "Done computing similarity matrix.\n",
            "Evaluating RMSE, MAE of algorithm KNNBasic on 5 split(s).\n",
            "\n",
            "                  Fold 1  Fold 2  Fold 3  Fold 4  Fold 5  Mean    Std     \n",
            "RMSE (testset)    1.0096  0.9974  1.0180  1.0138  1.0118  1.0101  0.0069  \n",
            "MAE (testset)     0.7818  0.7706  0.7876  0.7852  0.7850  0.7820  0.0060  \n",
            "Fit time          4.33    4.75    4.40    4.43    4.68    4.52    0.17    \n",
            "Test time         5.82    6.32    6.58    7.66    6.20    6.52    0.62    \n",
            "Computing the msd similarity matrix...\n",
            "Done computing similarity matrix.\n",
            "Computing the msd similarity matrix...\n",
            "Done computing similarity matrix.\n",
            "Computing the msd similarity matrix...\n",
            "Done computing similarity matrix.\n",
            "Computing the msd similarity matrix...\n",
            "Done computing similarity matrix.\n",
            "Computing the msd similarity matrix...\n",
            "Done computing similarity matrix.\n",
            "Evaluating RMSE, MAE of algorithm KNNBasic on 5 split(s).\n",
            "\n",
            "                  Fold 1  Fold 2  Fold 3  Fold 4  Fold 5  Mean    Std     \n",
            "RMSE (testset)    0.9911  0.9980  0.9951  1.0017  0.9838  0.9939  0.0061  \n",
            "MAE (testset)     0.7672  0.7708  0.7694  0.7770  0.7609  0.7691  0.0052  \n",
            "Fit time          4.82    4.74    4.61    4.51    4.71    4.68    0.11    \n",
            "Test time         6.11    6.69    7.87    6.47    6.67    6.76    0.59    \n",
            "Computing the msd similarity matrix...\n",
            "Done computing similarity matrix.\n",
            "Computing the msd similarity matrix...\n",
            "Done computing similarity matrix.\n",
            "Computing the msd similarity matrix...\n",
            "Done computing similarity matrix.\n",
            "Computing the msd similarity matrix...\n",
            "Done computing similarity matrix.\n",
            "Computing the msd similarity matrix...\n",
            "Done computing similarity matrix.\n",
            "Evaluating RMSE, MAE of algorithm KNNBasic on 5 split(s).\n",
            "\n",
            "                  Fold 1  Fold 2  Fold 3  Fold 4  Fold 5  Mean    Std     \n",
            "RMSE (testset)    0.9806  0.9843  0.9909  0.9834  0.9973  0.9873  0.0060  \n",
            "MAE (testset)     0.7586  0.7618  0.7654  0.7597  0.7724  0.7636  0.0050  \n",
            "Fit time          4.32    5.22    4.77    4.59    4.85    4.75    0.30    \n",
            "Test time         6.01    6.87    6.92    6.74    6.56    6.62    0.33    \n",
            "Computing the msd similarity matrix...\n",
            "Done computing similarity matrix.\n",
            "Computing the msd similarity matrix...\n",
            "Done computing similarity matrix.\n",
            "Computing the msd similarity matrix...\n",
            "Done computing similarity matrix.\n",
            "Computing the msd similarity matrix...\n",
            "Done computing similarity matrix.\n",
            "Computing the msd similarity matrix...\n",
            "Done computing similarity matrix.\n",
            "Evaluating RMSE, MAE of algorithm KNNBasic on 5 split(s).\n",
            "\n",
            "                  Fold 1  Fold 2  Fold 3  Fold 4  Fold 5  Mean    Std     \n",
            "RMSE (testset)    0.9868  0.9774  0.9904  0.9754  0.9747  0.9809  0.0064  \n",
            "MAE (testset)     0.7619  0.7587  0.7656  0.7546  0.7515  0.7585  0.0050  \n",
            "Fit time          5.49    4.84    4.67    5.00    4.26    4.85    0.40    \n",
            "Test time         6.42    6.64    7.00    8.20    6.43    6.94    0.67    \n",
            "Computing the msd similarity matrix...\n",
            "Done computing similarity matrix.\n",
            "Computing the msd similarity matrix...\n",
            "Done computing similarity matrix.\n",
            "Computing the msd similarity matrix...\n",
            "Done computing similarity matrix.\n",
            "Computing the msd similarity matrix...\n",
            "Done computing similarity matrix.\n",
            "Computing the msd similarity matrix...\n",
            "Done computing similarity matrix.\n",
            "Evaluating RMSE, MAE of algorithm KNNBasic on 5 split(s).\n",
            "\n",
            "                  Fold 1  Fold 2  Fold 3  Fold 4  Fold 5  Mean    Std     \n",
            "RMSE (testset)    0.9909  0.9732  0.9693  0.9666  0.9740  0.9748  0.0085  \n",
            "MAE (testset)     0.7642  0.7534  0.7527  0.7481  0.7502  0.7537  0.0056  \n",
            "Fit time          4.49    5.30    5.05    4.47    4.83    4.83    0.32    \n",
            "Test time         8.04    6.74    7.62    6.74    7.08    7.24    0.51    \n",
            "Computing the msd similarity matrix...\n",
            "Done computing similarity matrix.\n",
            "Computing the msd similarity matrix...\n",
            "Done computing similarity matrix.\n",
            "Computing the msd similarity matrix...\n",
            "Done computing similarity matrix.\n",
            "Computing the msd similarity matrix...\n",
            "Done computing similarity matrix.\n",
            "Computing the msd similarity matrix...\n",
            "Done computing similarity matrix.\n",
            "Evaluating RMSE, MAE of algorithm KNNBasic on 5 split(s).\n",
            "\n",
            "                  Fold 1  Fold 2  Fold 3  Fold 4  Fold 5  Mean    Std     \n",
            "RMSE (testset)    0.9698  0.9638  0.9755  0.9684  0.9676  0.9690  0.0038  \n",
            "MAE (testset)     0.7496  0.7447  0.7561  0.7459  0.7460  0.7485  0.0042  \n",
            "Fit time          4.38    5.73    4.35    4.84    5.78    5.02    0.63    \n",
            "Test time         6.41    6.34    6.86    6.70    10.69   7.40    1.66    \n",
            "Computing the msd similarity matrix...\n",
            "Done computing similarity matrix.\n",
            "Computing the msd similarity matrix...\n",
            "Done computing similarity matrix.\n",
            "Computing the msd similarity matrix...\n",
            "Done computing similarity matrix.\n",
            "Computing the msd similarity matrix...\n",
            "Done computing similarity matrix.\n",
            "Computing the msd similarity matrix...\n",
            "Done computing similarity matrix.\n",
            "Evaluating RMSE, MAE of algorithm KNNBasic on 5 split(s).\n",
            "\n",
            "                  Fold 1  Fold 2  Fold 3  Fold 4  Fold 5  Mean    Std     \n",
            "RMSE (testset)    0.9619  0.9643  0.9723  0.9677  0.9613  0.9655  0.0041  \n",
            "MAE (testset)     0.7473  0.7457  0.7494  0.7471  0.7435  0.7466  0.0019  \n",
            "Fit time          5.95    4.94    4.90    5.23    4.79    5.16    0.42    \n",
            "Test time         6.44    6.55    6.58    6.74    6.71    6.60    0.11    \n",
            "Computing the msd similarity matrix...\n",
            "Done computing similarity matrix.\n",
            "Computing the msd similarity matrix...\n",
            "Done computing similarity matrix.\n",
            "Computing the msd similarity matrix...\n",
            "Done computing similarity matrix.\n",
            "Computing the msd similarity matrix...\n",
            "Done computing similarity matrix.\n",
            "Computing the msd similarity matrix...\n",
            "Done computing similarity matrix.\n",
            "Evaluating RMSE, MAE of algorithm KNNBasic on 5 split(s).\n",
            "\n",
            "                  Fold 1  Fold 2  Fold 3  Fold 4  Fold 5  Mean    Std     \n",
            "RMSE (testset)    0.9615  0.9639  0.9683  0.9673  0.9534  0.9629  0.0053  \n",
            "MAE (testset)     0.7442  0.7480  0.7508  0.7457  0.7362  0.7450  0.0049  \n",
            "Fit time          4.32    4.84    4.45    4.71    4.64    4.59    0.19    \n",
            "Test time         7.63    8.14    6.94    6.60    6.84    7.23    0.57    \n",
            "Computing the msd similarity matrix...\n",
            "Done computing similarity matrix.\n",
            "Computing the msd similarity matrix...\n",
            "Done computing similarity matrix.\n",
            "Computing the msd similarity matrix...\n",
            "Done computing similarity matrix.\n",
            "Computing the msd similarity matrix...\n",
            "Done computing similarity matrix.\n",
            "Computing the msd similarity matrix...\n",
            "Done computing similarity matrix.\n",
            "Evaluating RMSE, MAE of algorithm KNNBasic on 5 split(s).\n",
            "\n",
            "                  Fold 1  Fold 2  Fold 3  Fold 4  Fold 5  Mean    Std     \n",
            "RMSE (testset)    0.9548  0.9701  0.9485  0.9675  0.9576  0.9597  0.0080  \n",
            "MAE (testset)     0.7406  0.7485  0.7334  0.7447  0.7423  0.7419  0.0050  \n",
            "Fit time          4.57    4.90    4.79    4.70    5.35    4.86    0.27    \n",
            "Test time         8.07    6.61    6.51    6.56    6.92    6.93    0.58    \n",
            "Computing the msd similarity matrix...\n",
            "Done computing similarity matrix.\n",
            "Computing the msd similarity matrix...\n",
            "Done computing similarity matrix.\n",
            "Computing the msd similarity matrix...\n",
            "Done computing similarity matrix.\n",
            "Computing the msd similarity matrix...\n",
            "Done computing similarity matrix.\n",
            "Computing the msd similarity matrix...\n",
            "Done computing similarity matrix.\n",
            "Evaluating RMSE, MAE of algorithm KNNBasic on 5 split(s).\n",
            "\n",
            "                  Fold 1  Fold 2  Fold 3  Fold 4  Fold 5  Mean    Std     \n",
            "RMSE (testset)    0.9553  0.9622  0.9531  0.9561  0.9570  0.9568  0.0030  \n",
            "MAE (testset)     0.7417  0.7416  0.7366  0.7390  0.7378  0.7393  0.0020  \n",
            "Fit time          4.21    4.62    4.47    5.60    4.94    4.77    0.48    \n",
            "Test time         6.27    6.52    6.57    6.91    6.58    6.57    0.20    \n",
            "Computing the msd similarity matrix...\n",
            "Done computing similarity matrix.\n",
            "Computing the msd similarity matrix...\n",
            "Done computing similarity matrix.\n",
            "Computing the msd similarity matrix...\n",
            "Done computing similarity matrix.\n",
            "Computing the msd similarity matrix...\n",
            "Done computing similarity matrix.\n",
            "Computing the msd similarity matrix...\n",
            "Done computing similarity matrix.\n",
            "Evaluating RMSE, MAE of algorithm KNNBasic on 5 split(s).\n",
            "\n",
            "                  Fold 1  Fold 2  Fold 3  Fold 4  Fold 5  Mean    Std     \n",
            "RMSE (testset)    0.9517  0.9541  0.9519  0.9590  0.9555  0.9545  0.0027  \n",
            "MAE (testset)     0.7356  0.7347  0.7336  0.7409  0.7402  0.7370  0.0030  \n",
            "Fit time          4.29    6.02    4.68    4.54    4.54    4.82    0.62    \n",
            "Test time         6.83    7.95    6.93    7.06    6.69    7.09    0.45    \n",
            "Computing the msd similarity matrix...\n",
            "Done computing similarity matrix.\n",
            "Computing the msd similarity matrix...\n",
            "Done computing similarity matrix.\n",
            "Computing the msd similarity matrix...\n",
            "Done computing similarity matrix.\n",
            "Computing the msd similarity matrix...\n",
            "Done computing similarity matrix.\n",
            "Computing the msd similarity matrix...\n",
            "Done computing similarity matrix.\n",
            "Evaluating RMSE, MAE of algorithm KNNBasic on 5 split(s).\n",
            "\n",
            "                  Fold 1  Fold 2  Fold 3  Fold 4  Fold 5  Mean    Std     \n",
            "RMSE (testset)    0.9427  0.9534  0.9557  0.9566  0.9589  0.9534  0.0056  \n",
            "MAE (testset)     0.7298  0.7396  0.7386  0.7352  0.7430  0.7372  0.0044  \n",
            "Fit time          4.36    5.02    4.40    4.39    4.80    4.59    0.27    \n",
            "Test time         8.03    6.64    6.89    6.70    7.76    7.20    0.58    \n",
            "Computing the msd similarity matrix...\n",
            "Done computing similarity matrix.\n",
            "Computing the msd similarity matrix...\n",
            "Done computing similarity matrix.\n",
            "Computing the msd similarity matrix...\n",
            "Done computing similarity matrix.\n",
            "Computing the msd similarity matrix...\n",
            "Done computing similarity matrix.\n",
            "Computing the msd similarity matrix...\n",
            "Done computing similarity matrix.\n",
            "Evaluating RMSE, MAE of algorithm KNNBasic on 5 split(s).\n",
            "\n",
            "                  Fold 1  Fold 2  Fold 3  Fold 4  Fold 5  Mean    Std     \n",
            "RMSE (testset)    0.9539  0.9608  0.9538  0.9382  0.9481  0.9510  0.0076  \n",
            "MAE (testset)     0.7365  0.7418  0.7359  0.7262  0.7352  0.7351  0.0050  \n",
            "Fit time          4.28    4.55    4.40    6.03    4.12    4.68    0.69    \n",
            "Test time         6.63    6.68    6.81    7.26    6.68    6.81    0.23    \n",
            "Computing the msd similarity matrix...\n",
            "Done computing similarity matrix.\n",
            "Computing the msd similarity matrix...\n",
            "Done computing similarity matrix.\n",
            "Computing the msd similarity matrix...\n",
            "Done computing similarity matrix.\n",
            "Computing the msd similarity matrix...\n",
            "Done computing similarity matrix.\n",
            "Computing the msd similarity matrix...\n",
            "Done computing similarity matrix.\n",
            "Evaluating RMSE, MAE of algorithm KNNBasic on 5 split(s).\n",
            "\n",
            "                  Fold 1  Fold 2  Fold 3  Fold 4  Fold 5  Mean    Std     \n",
            "RMSE (testset)    0.9516  0.9475  0.9443  0.9487  0.9493  0.9483  0.0024  \n",
            "MAE (testset)     0.7356  0.7327  0.7302  0.7322  0.7334  0.7328  0.0018  \n",
            "Fit time          4.28    4.88    4.83    4.69    4.85    4.70    0.22    \n",
            "Test time         6.85    9.43    7.04    7.43    6.87    7.53    0.98    \n",
            "19 0.948289993648195\n"
          ]
        }
      ]
    },
    {
      "cell_type": "code",
      "metadata": {
        "colab": {
          "base_uri": "https://localhost:8080/",
          "height": 295
        },
        "id": "L5rRNWgu1Tp6",
        "outputId": "478c01c8-ca45-4c96-db86-e1fdf6b2a064"
      },
      "source": [
        "plt.plot(icf_k_results, color = 'r')\n",
        "plt.xlabel(\"K\")\n",
        "plt.ylabel(\"Root-mean-square_deviation\")\n",
        "plt.title(\"RMSE for various values of K for Item based collaborative filtering\")\n",
        "plt.show()"
      ],
      "execution_count": null,
      "outputs": [
        {
          "output_type": "display_data",
          "data": {
            "text/plain": [
              "<Figure size 432x288 with 1 Axes>"
            ],
            "image/png": "[encoded data removed]"
          },
          "metadata": {
            "needs_background": "light"
          }
        }
      ]
    },
    {
      "cell_type": "markdown",
      "source": [
        "**g. Identify the best number of neighbor (denoted by K) for User/Item based \n",
        "collaborative filtering in terms of RMSE.  Is the best K of User based collaborative \n",
        "filtering the same with the best K of Item based collaborative filtering? (10 points)**"
      ],
      "metadata": {
        "id": "9cisRV8R7MET"
      }
    },
    {
      "cell_type": "code",
      "metadata": {
        "colab": {
          "base_uri": "https://localhost:8080/",
          "height": 295
        },
        "id": "8rauw1FH5kXI",
        "outputId": "efa94594-bbfd-41aa-a1f4-f651233a5814"
      },
      "source": [
        "plt.plot(ucf_k_results, color = 'r')\n",
        "plt.xlabel(\"K\")\n",
        "plt.ylabel(\"RMSE\")\n",
        "plt.title(\"RMSE for various values of K for User based collaborative filtering\")\n",
        "plt.show()"
      ],
      "execution_count": null,
      "outputs": [
        {
          "output_type": "display_data",
          "data": {
            "text/plain": [
              "<Figure size 432x288 with 1 Axes>"
            ],
            "image/png": "[encoded data removed]"
          },
          "metadata": {
            "needs_background": "light"
          }
        }
      ]
    },
    {
      "cell_type": "code",
      "metadata": {
        "colab": {
          "base_uri": "https://localhost:8080/",
          "height": 295
        },
        "id": "qvvV6Wgp6-Tg",
        "outputId": "7ec0368a-9844-4e84-c670-add3054d8676"
      },
      "source": [
        "plt.plot(ucf_k_results, color ='black')\n",
        "plt.plot(icf_k_results, color ='red')\n",
        "plt.xlabel(\"K\")\n",
        "plt.ylabel(\"RMSE\")\n",
        "plt.title(\"RMSE for various values of K for User based CF and Item based CF\")\n",
        "plt.show()"
      ],
      "execution_count": null,
      "outputs": [
        {
          "output_type": "display_data",
          "data": {
            "text/plain": [
              "<Figure size 432x288 with 1 Axes>"
            ],
            "image/png": "[encoded data removed]"
          },
          "metadata": {
            "needs_background": "light"
          }
        }
      ]
    },
    {
      "cell_type": "code",
      "metadata": {
        "id": "kS-2tBh87h1A"
      },
      "source": [],
      "execution_count": null,
      "outputs": []
    }
  ]
}